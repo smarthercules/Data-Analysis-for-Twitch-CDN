{
 "cells": [
  {
   "cell_type": "code",
   "execution_count": 1,
   "id": "934ab7e7",
   "metadata": {},
   "outputs": [],
   "source": [
    "import pandas as pd\n",
    "import numpy as np\n",
    "import matplotlib.pyplot as plt "
   ]
  },
  {
   "cell_type": "code",
   "execution_count": 2,
   "id": "2ab6deb6",
   "metadata": {},
   "outputs": [
    {
     "name": "stdout",
     "output_type": "stream",
     "text": [
      "\n",
      "us_period_1\n",
      "\n",
      "n_cluster: 2\n",
      "number of error rate > 1: 0\n",
      "number of nan: 0\n",
      "\n",
      "n_cluster: 3\n",
      "number of error rate > 1: 0\n",
      "number of nan: 0\n",
      "\n",
      "n_cluster: 4\n",
      "number of error rate > 1: 0\n",
      "number of nan: 0\n",
      "\n",
      "n_cluster: 5\n",
      "number of error rate > 1: 0\n",
      "number of nan: 0\n",
      "\n",
      "n_cluster: 6\n",
      "number of error rate > 1: 0\n",
      "number of nan: 0\n",
      "\n",
      "n_cluster: 7\n",
      "number of error rate > 1: 0\n",
      "number of nan: 0\n",
      "\n",
      "n_cluster: 8\n",
      "number of error rate > 1: 0\n",
      "number of nan: 0\n"
     ]
    },
    {
     "data": {
      "text/plain": [
       "<matplotlib.legend.Legend at 0x251298836d0>"
      ]
     },
     "execution_count": 2,
     "metadata": {},
     "output_type": "execute_result"
    },
    {
     "data": {
      "image/png": "[encoded data removed]",
      "text/plain": [
       "<Figure size 432x288 with 1 Axes>"
      ]
     },
     "metadata": {
      "needs_background": "light"
     },
     "output_type": "display_data"
    }
   ],
   "source": [
    "# data_locs = ['us_period_0', 'us_period_1', 'France', 'Germany']\n",
    "\n",
    "loc_choose = 0\n",
    "data_locs = ['us_period_1']#, 'us_period_1', 'France', 'Germany']\n",
    "data_loc = data_locs[loc_choose]\n",
    "label_number_each_n_cluster = 20\n",
    "\n",
    "print(f'\\n{data_loc}')\n",
    "\n",
    "# err > err_up_limit -> not write into record\n",
    "err_up_limit = 1\n",
    "\n",
    "err_record, std_record, time_record = [], [], []\n",
    "for n_cluster in [2,3,4,5,6,7,8]:\n",
    "    err_record.append([])\n",
    "    std_record.append([])\n",
    "    time_record.append([])\n",
    "    for label in range(label_number_each_n_cluster):\n",
    "        file_path = f'./p2_est_result/n_cluster_{n_cluster}/label_{label}.txt'\n",
    "        with open(file_path) as f:\n",
    "            lines = f.readlines()\n",
    "        time_record[-1].append(float(lines[-1][10:]))\n",
    "        if float(lines[0][5:]) > err_up_limit:\n",
    "            err_record[-1].append(None)\n",
    "            std_record[-1].append(None)\n",
    "        else:\n",
    "            err_record[-1].append(float(lines[0][5:]))\n",
    "            std_record[-1].append(float(lines[1][5:]))\n",
    "            \n",
    "        \n",
    "# s_dbw_record\n",
    "s_dbw_record = []\n",
    "s_dbw_file_path = f'./s_dbw_record.csv'\n",
    "df_sdbw = pd.read_csv(s_dbw_file_path)\n",
    "df_sdbw.head()\n",
    "for n_cluster in range(7): # n_cluster=2~8\n",
    "    s_dbw_record.append([])\n",
    "    for label in range(label_number_each_n_cluster):\n",
    "        s_dbw_record[-1].append(df_sdbw['S_Dbw'][n_cluster*label_number_each_n_cluster+label])\n",
    "\n",
    "# scatter plot - Error Rate & S_Dbw\n",
    "\n",
    "plt.title(f'Error Rate & S_Dbw - {data_loc} - random')\n",
    "plt.xlabel('S_Dbw')\n",
    "plt.ylabel('MLE-CJS error rate')\n",
    "\n",
    "colors = ['tab:red', 'tab:orange', 'gold', 'tab:green', 'tab:blue', 'darkblue', 'tab:purple']\n",
    "\n",
    "for n_cluster in range(7):\n",
    "    _cluster = n_cluster+2\n",
    "    plt.scatter(s_dbw_record[n_cluster], err_record[n_cluster], color=colors[n_cluster], label=f'n_cluster={_cluster}')\n",
    "    print(f'\\nn_cluster: {_cluster}')\n",
    "    num_over_err_up_limit = 0\n",
    "    num_is_nan = 0\n",
    "    for label in range(label_number_each_n_cluster):\n",
    "        if err_record[n_cluster][label] is None:\n",
    "            num_over_err_up_limit += 1\n",
    "        elif np.isnan(err_record[n_cluster][label]):\n",
    "            num_is_nan += 1\n",
    "    print(f'number of error rate > {err_up_limit}: {num_over_err_up_limit}')\n",
    "    print(f'number of nan: {num_is_nan}')\n",
    "    \n",
    "plt.legend()"
   ]
  },
  {
   "cell_type": "code",
   "execution_count": 3,
   "id": "29dfcbda",
   "metadata": {},
   "outputs": [
    {
     "name": "stdout",
     "output_type": "stream",
     "text": [
      "err_up_limit: 1\n",
      "\n",
      "us_period_1\n",
      "drop index: Int64Index([], dtype='int64')\n",
      "max CJS time: 21.77228\n"
     ]
    },
    {
     "data": {
      "text/html": [
       "<div>\n",
       "<style scoped>\n",
       "    .dataframe tbody tr th:only-of-type {\n",
       "        vertical-align: middle;\n",
       "    }\n",
       "\n",
       "    .dataframe tbody tr th {\n",
       "        vertical-align: top;\n",
       "    }\n",
       "\n",
       "    .dataframe thead th {\n",
       "        text-align: right;\n",
       "    }\n",
       "</style>\n",
       "<table border=\"1\" class=\"dataframe\">\n",
       "  <thead>\n",
       "    <tr style=\"text-align: right;\">\n",
       "      <th></th>\n",
       "      <th>n_cluster</th>\n",
       "      <th>S_Dbw</th>\n",
       "      <th>err</th>\n",
       "      <th>std</th>\n",
       "      <th>CJS_time</th>\n",
       "    </tr>\n",
       "  </thead>\n",
       "  <tbody>\n",
       "    <tr>\n",
       "      <th>n_cluster</th>\n",
       "      <td>1.000000</td>\n",
       "      <td>-0.427288</td>\n",
       "      <td>0.232267</td>\n",
       "      <td>0.210624</td>\n",
       "      <td>0.972148</td>\n",
       "    </tr>\n",
       "    <tr>\n",
       "      <th>S_Dbw</th>\n",
       "      <td>-0.427288</td>\n",
       "      <td>1.000000</td>\n",
       "      <td>-0.221243</td>\n",
       "      <td>0.003562</td>\n",
       "      <td>-0.401282</td>\n",
       "    </tr>\n",
       "    <tr>\n",
       "      <th>err</th>\n",
       "      <td>0.232267</td>\n",
       "      <td>-0.221243</td>\n",
       "      <td>1.000000</td>\n",
       "      <td>-0.486901</td>\n",
       "      <td>0.215229</td>\n",
       "    </tr>\n",
       "    <tr>\n",
       "      <th>std</th>\n",
       "      <td>0.210624</td>\n",
       "      <td>0.003562</td>\n",
       "      <td>-0.486901</td>\n",
       "      <td>1.000000</td>\n",
       "      <td>0.241372</td>\n",
       "    </tr>\n",
       "    <tr>\n",
       "      <th>CJS_time</th>\n",
       "      <td>0.972148</td>\n",
       "      <td>-0.401282</td>\n",
       "      <td>0.215229</td>\n",
       "      <td>0.241372</td>\n",
       "      <td>1.000000</td>\n",
       "    </tr>\n",
       "  </tbody>\n",
       "</table>\n",
       "</div>"
      ],
      "text/plain": [
       "           n_cluster     S_Dbw       err       std  CJS_time\n",
       "n_cluster   1.000000 -0.427288  0.232267  0.210624  0.972148\n",
       "S_Dbw      -0.427288  1.000000 -0.221243  0.003562 -0.401282\n",
       "err         0.232267 -0.221243  1.000000 -0.486901  0.215229\n",
       "std         0.210624  0.003562 -0.486901  1.000000  0.241372\n",
       "CJS_time    0.972148 -0.401282  0.215229  0.241372  1.000000"
      ]
     },
     "execution_count": 3,
     "metadata": {},
     "output_type": "execute_result"
    }
   ],
   "source": [
    "# Correlation Matrix - n_cluster, S_Dbw, err, std\n",
    "# Pearson correlation\n",
    "\n",
    "print(f'err_up_limit: {err_up_limit}')\n",
    "print(f'\\n{data_loc}')\n",
    "data_df = pd.DataFrame(columns = ['n_cluster', 'S_Dbw', 'err', 'std', 'CJS_time'], index=list(range(7*label_number_each_n_cluster)))\n",
    "\n",
    "for n_cluster in [2,3,4,5,6,7,8]:\n",
    "    for label in range(label_number_each_n_cluster):\n",
    "        index = (n_cluster-2)*label_number_each_n_cluster+label\n",
    "        data_df['n_cluster'][index] = n_cluster\n",
    "        data_df['S_Dbw'][index] = s_dbw_record[n_cluster-2][label]\n",
    "        data_df['err'][index] = err_record[n_cluster-2][label]\n",
    "        data_df['std'][index] = std_record[n_cluster-2][label]\n",
    "        data_df['CJS_time'][index] = time_record[n_cluster-2][label]\n",
    "        if err_record[n_cluster-2][label] is None:\n",
    "            print(f'err is None: n_cluster={n_cluster}, label={label}')\n",
    "            data_df['err'][index] = 'None'\n",
    "            data_df['std'][index] = 'None'\n",
    "        elif np.isnan(err_record[n_cluster-2][label]):\n",
    "            print(f'err is nan: n_cluster={n_cluster}, label={label}')\n",
    "            data_df['err'][index] = 'None'\n",
    "            data_df['std'][index] = 'None'\n",
    "            \n",
    "# Delete these row indexes from dataFrame\n",
    "indexNames = data_df[ data_df['err'] == 'None' ].index\n",
    "print(f'drop index: {indexNames}')\n",
    "data_df.drop(indexNames , inplace=True)\n",
    "\n",
    "data_df.head(20)\n",
    "#print(data_df)\n",
    "max_time = max(data_df['CJS_time'])\n",
    "print(f'max CJS time: {max_time}')\n",
    "data_df.astype('float64').corr()\n"
   ]
  },
  {
   "cell_type": "code",
   "execution_count": 48,
   "id": "48d8f58c",
   "metadata": {
    "scrolled": false
   },
   "outputs": [
    {
     "name": "stdout",
     "output_type": "stream",
     "text": [
      "err_up_limit: 1\n",
      "\n",
      "us_period_0\n"
     ]
    },
    {
     "data": {
      "text/plain": [
       "[<matplotlib.lines.Line2D at 0x1530410ff40>]"
      ]
     },
     "execution_count": 48,
     "metadata": {},
     "output_type": "execute_result"
    },
    {
     "data": {
      "image/png": "[encoded data removed]",
      "text/plain": [
       "<Figure size 432x288 with 1 Axes>"
      ]
     },
     "metadata": {
      "needs_background": "light"
     },
     "output_type": "display_data"
    }
   ],
   "source": [
    "# check mean result\n",
    "print(f'err_up_limit: {err_up_limit}')\n",
    "\n",
    "print(f'\\n{data_loc}')\n",
    "#print(np.corrcoef(data_df['S_Dbw'][:10], data_df['err'][:10]))\n",
    "'''\n",
    "correlation_sdbw_err, n_clusters = [], []\n",
    "for n_cluster in range(7):\n",
    "    print(f'\\nn_cluster: {n_cluster+2}')\n",
    "    n_cluster_index = data_df[ data_df['n_cluster'] == n_cluster+2 ].index # because some index was drop (data_df['err'] == 'None')\n",
    "    print(n_cluster_index)\n",
    "    n_cluster_df = data_df['n_cluster'][n_cluster_index]\n",
    "    #print(f'n_cluster:\\n {n_cluster_df}')\n",
    "    err = data_df['err'][n_cluster_index]\n",
    "    #print(f'err:\\n {err}')\n",
    "    n_clusters.append(n_cluster+2)\n",
    "    #print(f'corr:\\n {corr}')\n",
    "   '''\n",
    "n_clusters = [2,3,4,5,6,7,8]\n",
    "correlation_sdbw_err = [-0.699137,-0.430075,0.572882,-0.445110,0.046737,0.026629,0.044545]\n",
    "plt.title('Correlation of S_Dbw & CJS error rate')\n",
    "plt.xlabel('n_cluster')\n",
    "plt.ylabel('correlation')\n",
    "plt.plot(n_clusters, correlation_sdbw_err)"
   ]
  },
  {
   "cell_type": "code",
   "execution_count": 5,
   "id": "e5aae23b",
   "metadata": {},
   "outputs": [
    {
     "name": "stdout",
     "output_type": "stream",
     "text": [
      "err_up_limit: 1\n",
      "\n",
      "us_period_0\n",
      "\n",
      "n_cluster: 2\n",
      "mean_S_Dbw: 1.5808829609492854\n",
      "mean_err: 0.059000440269555046\n",
      "mean_std: 0.01411849846600117\n",
      "mean_CJS_time: 0.45095944999999993\n",
      "\n",
      "n_cluster: 3\n",
      "mean_S_Dbw: 0.7612436653647553\n",
      "mean_err: 0.04973556361670441\n",
      "mean_std: 0.013503475580527769\n",
      "mean_CJS_time: 0.8212899555555556\n",
      "\n",
      "n_cluster: 4\n",
      "mean_S_Dbw: 0.5401104491447923\n",
      "mean_err: 0.054443907093963045\n",
      "mean_std: 0.025604549755275787\n",
      "mean_CJS_time: 1.3859065555555556\n",
      "\n",
      "n_cluster: 5\n",
      "mean_S_Dbw: 0.5619664639165355\n",
      "mean_err: 0.07993298358628913\n",
      "mean_std: 0.06008039991411887\n",
      "mean_CJS_time: 1.6256979999999999\n",
      "\n",
      "n_cluster: 6\n",
      "mean_S_Dbw: 0.3633247450863988\n",
      "mean_err: 0.08330068033313237\n",
      "mean_std: 0.05849945995863776\n",
      "mean_CJS_time: 2.2054277777777775\n",
      "\n",
      "n_cluster: 7\n",
      "mean_S_Dbw: 0.3130964882348263\n",
      "mean_err: 0.09139680911756963\n",
      "mean_std: 0.061736078586991955\n",
      "mean_CJS_time: 3.035319375\n",
      "\n",
      "n_cluster: 8\n",
      "mean_S_Dbw: 0.24433850072155902\n",
      "mean_err: 0.0875340485772458\n",
      "mean_std: 0.05929410512113044\n",
      "mean_CJS_time: 3.915605142857143\n"
     ]
    }
   ],
   "source": [
    "# correlation of S_dbw and error rate with different n_cluster\n",
    "print(f'err_up_limit: {err_up_limit}')\n",
    "\n",
    "print(f'\\n{data_loc}')\n",
    "\n",
    "\n",
    "for n_cluster in range(7):\n",
    "    print(f'\\nn_cluster: {n_cluster+2}')\n",
    "    n_cluster_index = data_df[ data_df['n_cluster'] == n_cluster+2 ].index # because some index was drop (data_df['err'] == 'None')\n",
    "    S_Dbw_mean = data_df['S_Dbw'][n_cluster_index].mean()\n",
    "    err_mean = data_df['err'][n_cluster_index].mean()\n",
    "    std_mean = data_df['std'][n_cluster_index].mean()\n",
    "    time_mean = data_df['CJS_time'][n_cluster_index].mean()\n",
    "    print(f'mean_S_Dbw: {S_Dbw_mean}')\n",
    "    print(f'mean_err: {err_mean}')\n",
    "    print(f'mean_std: {std_mean}')\n",
    "    print(f'mean_CJS_time: {time_mean}')"
   ]
  }
 ],
 "metadata": {
  "kernelspec": {
   "display_name": "Python 3 (ipykernel)",
   "language": "python",
   "name": "python3"
  },
  "language_info": {
   "codemirror_mode": {
    "name": "ipython",
    "version": 3
   },
   "file_extension": ".py",
   "mimetype": "text/x-python",
   "name": "python",
   "nbconvert_exporter": "python",
   "pygments_lexer": "ipython3",
   "version": "3.9.7"
  }
 },
 "nbformat": 4,
 "nbformat_minor": 5
}

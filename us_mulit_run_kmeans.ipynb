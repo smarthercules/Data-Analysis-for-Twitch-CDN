{
 "cells": [
  {
   "cell_type": "code",
   "execution_count": 1,
   "id": "479ccafa",
   "metadata": {},
   "outputs": [
    {
     "name": "stderr",
     "output_type": "stream",
     "text": [
      "C:\\Users\\Hsu_Cheng\\anaconda3\\lib\\site-packages\\IPython\\core\\interactiveshell.py:3444: DtypeWarning: Columns (1,5,9) have mixed types.Specify dtype option on import or set low_memory=False.\n",
      "  exec(code_obj, self.user_global_ns, self.user_ns)\n"
     ]
    },
    {
     "name": "stdout",
     "output_type": "stream",
     "text": [
      "num of total server: 619\n",
      "vpn_nan: 157086\n",
      "{'us8261': 93, 'us6286': 23667, 'us8262': 29627, 'us8667': 38461, 'us8258': 6627, 'us8275': 2088, 'us8272': 26600}\n",
      "time cost: 71.26015901565552\n",
      "the size of data 284249\n"
     ]
    }
   ],
   "source": [
    "data_loc = 'us'\n",
    "file = f'../dataset/{data_loc}.csv' # choose the file want to read\n",
    "\n",
    "import pandas as pd\n",
    "df = pd.read_csv(file)  # read csv\n",
    "df = pd.DataFrame(df) # trans into dataframe\n",
    "\n",
    "import time as tm\n",
    "time_start = tm.time() #開始計時\n",
    "\n",
    "ip_time = dict()\n",
    "special_chr = [\"{\", \"}\", \"'\", \":\", \" \"]\n",
    "\n",
    "vpn_nan = 0\n",
    "vpn_server = dict()\n",
    "for i in range(len(df)):\n",
    "    # vpn_server\n",
    "    vpn_point = df['vpnServerId'][i]\n",
    "    if (pd.isna(vpn_point)): vpn_nan+=1\n",
    "    elif vpn_point not in vpn_server: vpn_server[vpn_point] = 1\n",
    "    elif vpn_point in vpn_server: vpn_server[vpn_point] += 1\n",
    "        \n",
    "    # ip_time\n",
    "    raw_points = df['transactionList'][i]\n",
    "    points = ''.join(e for e in raw_points if e not in special_chr)\n",
    "    points = points.split(\",\")\n",
    "    for j in range(len(points)):\n",
    "        time = points[j][:17]\n",
    "        ip = points[j][17:]\n",
    "        if ip not in ip_time:\n",
    "            ip_time[ip] = [time]\n",
    "        else:\n",
    "            ip_time[ip].append(time)\n",
    "\n",
    "total_num = len(ip_time)\n",
    "print(f'num of total server: {total_num}')\n",
    "print(f'vpn_nan: {vpn_nan}')\n",
    "print(vpn_server)\n",
    "time_end = tm.time()\n",
    "time_c = time_end - time_start\n",
    "print(f'time cost: {time_c}') # about (sec)\n",
    "print(f'the size of data {len(df)}')"
   ]
  },
  {
   "cell_type": "code",
   "execution_count": 2,
   "id": "0ba34c80",
   "metadata": {},
   "outputs": [],
   "source": [
    "#import sklearn to cluster\n",
    "from sklearn.cluster import MiniBatchKMeans\n",
    "from matplotlib import pyplot\n",
    "import numpy as np\n",
    "\n",
    "from sklearn.decomposition import PCA # use pca reduce dims\n",
    "from mpl_toolkits.mplot3d import Axes3D # plot 3d figure\n",
    "from s_dbw import S_Dbw # evaluate clustering\n",
    "\n",
    "from sklearn.cluster import MeanShift # a clustering algorithm decide the n_cluster automatically\n",
    "from itertools import cycle # for mean-shift plot\n",
    "\n",
    "import random # random choose servers"
   ]
  },
  {
   "cell_type": "code",
   "execution_count": 28,
   "id": "ca582408",
   "metadata": {},
   "outputs": [
    {
     "name": "stdout",
     "output_type": "stream",
     "text": [
      "52.223.228.27\n",
      "['2021-04-29T010109', '2021-04-29T012715', '2021-04-29T012547', '2021-04-29T013252', '2021-04-29T020213']\n"
     ]
    }
   ],
   "source": [
    "# dataset pre-processing\n",
    "# select specific period from ip_time\n",
    "\n",
    "def get_ip_time(ip_data=ip_time, period='2021', period_ip_time=None): # period_ip_time: use to accumulate date\n",
    "    if period_ip_time is None:\n",
    "        period_ip_time = dict()\n",
    "    if type(period) == str:\n",
    "        len_p = len(period)\n",
    "        for ip in ip_data:\n",
    "            for time in ip_data[ip]:\n",
    "                if time[0:len_p] == period:\n",
    "                    if ip not in period_ip_time:\n",
    "                        period_ip_time[ip] = [time]\n",
    "                    else:\n",
    "                        period_ip_time[ip] += [time]\n",
    "    elif type(period) == list: #[time_1, time_2, ...]\n",
    "        period_ip_time = get_ip_time(period=period[0])\n",
    "        for time_i in period[1:]:\n",
    "            period_ip_time = get_ip_time(period=time_i, period_ip_time=period_ip_time)\n",
    "    return period_ip_time\n",
    "\n",
    "#data_2021 = get_ip_time(period='2021')\n",
    "\n",
    "period_0 = ['2021-04-29', '2021-04-30', '2021-05-01', '2021-05-02', '2021-05-03', '2021-05-04', '2021-05-05']\n",
    "period_1 = ['2021-05-07', '2021-05-08', '2021-05-09', '2021-05-10', '2021-05-11',\n",
    "                     '2021-05-12', '2021-05-13', '2021-05-14', '2021-05-15', '2021-05-16']\n",
    "\n",
    "data_period_0 = get_ip_time(ip_data=ip_time, period=period_0)\n",
    "data_period_1 = get_ip_time(ip_data=ip_time, period=period_1)\n",
    "\n",
    "for ip in data_period_0:\n",
    "    print(ip)\n",
    "    print(data_period_0[ip][:5])\n",
    "    break"
   ]
  },
  {
   "cell_type": "code",
   "execution_count": 29,
   "id": "08724f9d",
   "metadata": {},
   "outputs": [],
   "source": [
    "# choose data\n",
    "\n",
    "data_choose = data_period_1\n",
    "# data_choose = data_continuous\n",
    "\n",
    "# setup hour axis for below chart\n",
    "hour_axis = ['00', '01', '02', '03', '04', '05', '06', '07', '08', '09', '10', '11',\n",
    "             '12', '13', '14', '15', '16', '17', '18', '19', '20', '21', '22', '23']"
   ]
  },
  {
   "cell_type": "code",
   "execution_count": 30,
   "id": "253da638",
   "metadata": {},
   "outputs": [
    {
     "name": "stdout",
     "output_type": "stream",
     "text": [
      "num of ip: 538\n"
     ]
    }
   ],
   "source": [
    "# check number of ips in data_ip_time\n",
    "# data_continuous should has 538 ips\n",
    "\n",
    "print(f'num of ip: {len(data_choose)}')"
   ]
  },
  {
   "cell_type": "code",
   "execution_count": 31,
   "id": "2d9c6b57",
   "metadata": {},
   "outputs": [
    {
     "name": "stdout",
     "output_type": "stream",
     "text": [
      "52.223.228.27\n",
      "['2021-05-07T000111', '2021-05-07T000455', '2021-05-07T000715', '2021-05-07T001040', '2021-05-07T001447']\n"
     ]
    }
   ],
   "source": [
    "# sort time in data_ip_time (of each ip)\n",
    "for ip in data_choose:\n",
    "    data_choose[ip] = sorted(data_choose[ip])\n",
    "\n",
    "# check result\n",
    "for key, value in data_choose.items():\n",
    "    print(key)\n",
    "    print(value[0:5])\n",
    "    break"
   ]
  },
  {
   "cell_type": "code",
   "execution_count": 32,
   "id": "cf273e85",
   "metadata": {},
   "outputs": [
    {
     "name": "stdout",
     "output_type": "stream",
     "text": [
      "[521, 522, 521, 511, 419, 331, 319, 319, 264, 173, 145, 132, 130, 130, 137, 144, 228, 366, 398, 469, 489, 504, 506, 508]\n"
     ]
    },
    {
     "data": {
      "image/png": "[encoded data removed]",
      "text/plain": [
       "<Figure size 432x288 with 1 Axes>"
      ]
     },
     "metadata": {
      "needs_background": "light"
     },
     "output_type": "display_data"
    }
   ],
   "source": [
    "# number of ip in each hours\n",
    "\n",
    "num_ip_hour = dict()\n",
    "for hour in hour_axis:\n",
    "    num_ip_hour[hour] = []\n",
    "    \n",
    "for ip in data_choose:\n",
    "    for time in data_choose[ip]:\n",
    "        hour = time[11:13]\n",
    "        if ip not in num_ip_hour[hour]:\n",
    "            num_ip_hour[hour].append(ip)\n",
    "\n",
    "# plot - axis\n",
    "y_num_ip = []\n",
    "for hour in hour_axis:\n",
    "    y_num_ip.append(len(num_ip_hour[hour]))\n",
    "\n",
    "# plot\n",
    "pyplot.title(f'{data_loc}')\n",
    "pyplot.xlabel('hour')\n",
    "pyplot.ylabel('number of ip')\n",
    "\n",
    "pyplot.plot(hour_axis, y_num_ip)\n",
    "print(y_num_ip)"
   ]
  },
  {
   "cell_type": "code",
   "execution_count": 8,
   "id": "680bc664",
   "metadata": {},
   "outputs": [
    {
     "name": "stdout",
     "output_type": "stream",
     "text": [
      "def kmeans_cluster\n"
     ]
    }
   ],
   "source": [
    "def kmeans_cluster(model, n_clusters=2, pca_components=False, plot=False, show_centers=False):\n",
    "    if(pca_components):\n",
    "        pca = PCA(n_components=pca_components).fit(model)\n",
    "        model = pca.transform(model)\n",
    "    kmeans = MiniBatchKMeans(n_clusters=n_clusters,\n",
    "             #random_state=0,\n",
    "             batch_size=6,\n",
    "             max_iter=10).fit(model)\n",
    "    yhat = kmeans.predict(model)\n",
    "    if(show_centers):print(kmeans.cluster_centers_)\n",
    "    if(plot):\n",
    "        pyplot.title(f'kmeans-cluster: {n_clusters}, pca: {bool(pca_components)}')\n",
    "        if type(plot) == list:\n",
    "            pyplot.xlabel(plot[0])\n",
    "            pyplot.ylabel(plot[1])\n",
    "        clusters = np.unique(yhat)\n",
    "        for cluster in clusters:\n",
    "            row_ix = np.where(yhat == cluster)\n",
    "            pyplot.scatter(model[row_ix, 0], model[row_ix, 1])\n",
    "        pyplot.show()\n",
    "    score = S_Dbw(model, yhat)\n",
    "    return yhat, score # len(yhat) = num of ip\n",
    "\n",
    "def kmeans_cluster_3d_random(model, hour_period, n_clusters=2, pca_components=False, plot=False, show_centers=False):\n",
    "    if(pca_components):\n",
    "        model_3d = model\n",
    "        pca = PCA(n_components=pca_components).fit(model)\n",
    "        model = pca.transform(model)\n",
    "    kmeans = MiniBatchKMeans(n_clusters=n_clusters,\n",
    "             #random_state=0,\n",
    "             batch_size=6,\n",
    "             max_iter=10).fit(model)\n",
    "    yhat = kmeans.predict(model)\n",
    "    if(show_centers):print(f'cluster_centers_: {kmeans.cluster_centers_}')\n",
    "    if(plot):\n",
    "        clusters = np.unique(yhat)\n",
    "        # 2D plot\n",
    "        if(pca_components):\n",
    "            pyplot.title(f'kmeans-cluster: {n_clusters}, pca: {bool(pca_components)}')\n",
    "            if type(plot) == list:\n",
    "                pyplot.xlabel(plot[0])\n",
    "                pyplot.ylabel(plot[1])\n",
    "            for cluster in clusters:\n",
    "                row_ix = np.where(yhat == cluster)\n",
    "                pyplot.scatter(model[row_ix, 0], model[row_ix, 1])\n",
    "            pyplot.show()\n",
    "        \n",
    "        # 3D plot\n",
    "        fig = pyplot.figure()\n",
    "        ax = fig.add_subplot(111, projection='3d')\n",
    "        ax.set_xlabel(f'{hour_period[0][0]}~{hour_period[0][-1]}')\n",
    "        ax.set_ylabel(f'{hour_period[1][0]}~{hour_period[1][-1]}')\n",
    "        ax.set_zlabel(f'{hour_period[2][0]}~{hour_period[2][-1]}')\n",
    "        \n",
    "        colors = ['tab:blue', 'tab:orange', 'tab:green', 'tab:red', 'tab:purple', \n",
    "                  'tab:brown', 'tab:pink', 'tab:gray', 'tab:olive', 'tab:cyan']\n",
    "        for cluster in clusters:\n",
    "            row_ix = np.where(yhat == cluster)\n",
    "            ax.scatter(model_3d[row_ix, 0], model_3d[row_ix, 1], model_3d[row_ix, 2], color=colors[cluster])\n",
    "            print(f'class_{cluster}({colors[cluster][4:]}): {[round(np.mean(model_3d[row_ix, 0])), round(np.mean(model_3d[row_ix, 1])), round(np.mean(model_3d[row_ix, 2]))]}')\n",
    "\n",
    "        pyplot.show()\n",
    "\n",
    "    score = S_Dbw(model, yhat)\n",
    "    return yhat, score # len(yhat) = num of ip\n",
    "\n",
    "print('def kmeans_cluster')"
   ]
  },
  {
   "cell_type": "code",
   "execution_count": 9,
   "id": "572d9d78",
   "metadata": {},
   "outputs": [],
   "source": [
    "# get the 3-period features for each ip\n",
    "# bug delete: 2022/6/4 (in the past, np>3 will wrong)\n",
    "\n",
    "hour_period = [] # ex: [['00'~'07'], ['08'~'15'], ['16'~'23']] \n",
    "def get_ip_periods_count(ip, ip_time=data_choose, hour_period=hour_period):\n",
    "    hour_count = np.zeros((len(hour_period),), dtype=int)\n",
    "    for time in ip_time[ip]: # hour = time[11:13]\n",
    "        for i in range(len(hour_period)):\n",
    "            if time[11:13] in hour_period[i]:\n",
    "                hour_count[i] += 1\n",
    "    return hour_count"
   ]
  },
  {
   "cell_type": "code",
   "execution_count": 10,
   "id": "b2dd757b",
   "metadata": {},
   "outputs": [],
   "source": [
    "# output to csv file\n",
    "\n",
    "def get_csv(yhat, ip_index, n_clusters, label):\n",
    "    n_clusters = len(np.unique(yhat))\n",
    "    ip_class = []\n",
    "    for i in range(len(ip_index)):\n",
    "        _class = f'class{yhat[i]}'\n",
    "        ip_class.append([_class, ip_index[i]])\n",
    "    \n",
    "    df_class = pd.DataFrame(ip_class, columns=['class', 'ip'])\n",
    "    file_name = f'./Af_oral/{data_loc}/p0_cluster_result/n_cluster_{n_clusters}/label_{label}.csv'\n",
    "    df_class.to_csv(file_name)\n",
    "    return 0\n",
    "\n",
    "def output_s_dbw_record(record):\n",
    "    df_class = pd.DataFrame(record, columns=['n_cluster', 'label', 'S_Dbw']) # add 'n_cluster'\n",
    "    file_name = f'./Af_oral/{data_loc}/p0_cluster_result/s_dbw_record.csv'\n",
    "    df_class.to_csv(file_name)\n",
    "    return 0"
   ]
  },
  {
   "cell_type": "code",
   "execution_count": 16,
   "id": "673264ca",
   "metadata": {},
   "outputs": [
    {
     "name": "stdout",
     "output_type": "stream",
     "text": [
      "skip run_kmeans\n"
     ]
    }
   ],
   "source": [
    "# Run K-means 10 times for n_cluster=2~8, features of (n_period, slide_hour)\n",
    "\n",
    "run_kmeans = False\n",
    "if not (run_kmeans): print('skip run_kmeans')\n",
    "elif run_kmeans:\n",
    "    #data_2021\n",
    "    time_start = tm.time()\n",
    "\n",
    "    n_periods = 3\n",
    "    slide_hour = 0\n",
    "\n",
    "    period_len = len(hour_axis)//n_periods\n",
    "    hour_period = [] # feature\n",
    "    for i in range(n_periods-1):\n",
    "        hour_period.append(hour_axis[period_len*i + slide_hour:period_len*(i+1) + slide_hour])\n",
    "    hour_period.append(hour_axis[period_len*(n_periods-1) + slide_hour:] + hour_axis[:slide_hour])\n",
    "\n",
    "    print(f'hour_period: {hour_period}')\n",
    "\n",
    "    count_period = [] # feature vector for each ip\n",
    "    ip_index = []\n",
    "    for _ip in data_choose:\n",
    "        period3 = get_ip_periods_count(_ip, data_choose, hour_period)\n",
    "        count_period.append(period3)\n",
    "        ip_index.append(_ip)\n",
    "    X_count_hour = np.array(count_period)\n",
    "\n",
    "    s_dbw_record = []\n",
    "    for num_clusters in range(2,9):\n",
    "        print(f'num_clusters={num_clusters}')\n",
    "        for label in range(10):\n",
    "            yhat_count_hour, score_count_hour = kmeans_cluster(X_count_hour, n_clusters=num_clusters, pca_components=2, plot=False, show_centers=False)\n",
    "            get_csv(yhat=yhat_count_hour, ip_index=ip_index, n_clusters=num_clusters, label=label)\n",
    "            s_dbw_record.append([num_clusters, label, score_count_hour]) # columns=['n_cluster', 'label', 'S_Dbw']\n",
    "        time_c = tm.time() - time_start\n",
    "        print(f'time cost: {time_c}') # (sec)\n",
    "\n",
    "    # ouput s_dbw_record\n",
    "    output_s_dbw_record(s_dbw_record)\n",
    "    print('fininsh output s_dbw file')"
   ]
  },
  {
   "cell_type": "code",
   "execution_count": 36,
   "id": "264a9ab1",
   "metadata": {},
   "outputs": [],
   "source": [
    "# output to csv file - random\n",
    "\n",
    "def get_random_csv(yhat, ip_index, n_clusters, label, period):\n",
    "    n_clusters = len(np.unique(yhat))\n",
    "    ip_class = []\n",
    "    for i in range(len(ip_index)):\n",
    "        _class = f'class{yhat[i]}'\n",
    "        ip_class.append([_class, ip_index[i]])\n",
    "    \n",
    "    df_class = pd.DataFrame(ip_class, columns=['class', 'ip'])\n",
    "    file_name = f'./Af_oral/{data_loc}_period_{period}/random_nc_2to8/p0_cluster_result/n_cluster_{n_clusters}_label_{label}.csv'\n",
    "    df_class.to_csv(file_name)\n",
    "    return 0\n",
    "\n",
    "def output_random_s_dbw_record(record, period):\n",
    "    df_class = pd.DataFrame(record, columns=['n_cluster', 'label', 'S_Dbw']) # add 'n_cluster'\n",
    "    file_name = f'./Af_oral/{data_loc}_period_{period}/random_nc_2to8/s_dbw_record.csv'\n",
    "    df_class.to_csv(file_name)\n",
    "    return 0"
   ]
  },
  {
   "cell_type": "code",
   "execution_count": 35,
   "id": "a4781b3f",
   "metadata": {},
   "outputs": [
    {
     "name": "stdout",
     "output_type": "stream",
     "text": [
      "number of ip: 538\n",
      "hour_period: [['00', '01', '02', '03', '04', '05', '06', '07'], ['08', '09', '10', '11', '12', '13', '14', '15'], ['16', '17', '18', '19', '20', '21', '22', '23']]\n",
      "n_cluster=2\n",
      "n_cluster=3\n",
      "n_cluster=4\n",
      "n_cluster=5\n",
      "n_cluster=6\n",
      "n_cluster=7\n",
      "n_cluster=8\n",
      "finish random divide\n"
     ]
    }
   ],
   "source": [
    "# Just randomly select servers and form 20 n-clusters for each n=2...8\n",
    "\n",
    "def random_partition(list_in, n): # divide into n classes\n",
    "    random.shuffle(list_in) # 隨機排列\n",
    "    return [i%n for i in list_in]\n",
    "\n",
    "print(f'number of ip: {len(data_choose)}')\n",
    "server_index_list = [i for i in range(len(data_choose))]\n",
    "\n",
    "period = 1\n",
    "n_periods = 3\n",
    "slide_hour = 0\n",
    "\n",
    "period_len = len(hour_axis)//n_periods\n",
    "hour_period = [] # feature\n",
    "for i in range(n_periods-1):\n",
    "    hour_period.append(hour_axis[period_len*i + slide_hour:period_len*(i+1) + slide_hour])\n",
    "hour_period.append(hour_axis[period_len*(n_periods-1) + slide_hour:] + hour_axis[:slide_hour])\n",
    "\n",
    "print(f'hour_period: {hour_period}')\n",
    "\n",
    "# 3-period transaction count\n",
    "count_period = [] # feature vector for each ip\n",
    "ip_index = []\n",
    "for _ip in data_choose:\n",
    "    period3 = get_ip_periods_count(_ip, data_choose, hour_period)\n",
    "    count_period.append(period3)\n",
    "    ip_index.append(_ip)\n",
    "X_count_hour = np.array(count_period)\n",
    "\n",
    "s_dbw_record = []\n",
    "for n_cluster in range(2,9):\n",
    "    print(f'n_cluster={n_cluster}')\n",
    "    for label in range(20):\n",
    "        yhat = random_partition(server_index_list, n_cluster)\n",
    "        score = S_Dbw(X_count_hour, yhat)\n",
    "        get_random_csv(yhat=yhat, ip_index=ip_index, n_clusters=n_cluster, label=label, period=period)\n",
    "        s_dbw_record.append([n_cluster, label, score]) # columns=['n_cluster', 'label', 'S_Dbw']\n",
    "        \n",
    "output_random_s_dbw_record(record=s_dbw_record, period=period)\n",
    "print(f'finish random divide')"
   ]
  },
  {
   "cell_type": "code",
   "execution_count": null,
   "id": "90a0f663",
   "metadata": {},
   "outputs": [],
   "source": [
    "# declaring list\n",
    "#list = [2, 2, 4, 6, 6, 8]\n",
    "_list = [i for i in range(1,10)]\n",
    "\n",
    "# initializing the value of n\n",
    "n = 4\n",
    "  \n",
    "# printing n elements from list\n",
    "print(type(random.sample(list, n)))\n",
    "def random_partition(list_in, n):\n",
    "    random.shuffle(list_in) # 隨機排列\n",
    "    return [i%n for i in list_in]#[list_in[i::n] for i in range(n)]\n",
    "print(random_partition(_list,6))\n",
    "print(_list)\n"
   ]
  }
 ],
 "metadata": {
  "kernelspec": {
   "display_name": "Python 3 (ipykernel)",
   "language": "python",
   "name": "python3"
  },
  "language_info": {
   "codemirror_mode": {
    "name": "ipython",
    "version": 3
   },
   "file_extension": ".py",
   "mimetype": "text/x-python",
   "name": "python",
   "nbconvert_exporter": "python",
   "pygments_lexer": "ipython3",
   "version": "3.10.5"
  }
 },
 "nbformat": 4,
 "nbformat_minor": 5
}

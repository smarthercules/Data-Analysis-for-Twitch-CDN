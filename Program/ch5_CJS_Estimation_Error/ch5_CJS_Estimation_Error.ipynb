{
 "cells": [
  {
   "cell_type": "code",
   "execution_count": 1,
   "id": "0ba34c80",
   "metadata": {},
   "outputs": [],
   "source": [
    "#import sklearn to cluster\n",
    "\n",
    "import numpy as np\n",
    "import pandas as pd\n",
    "import time as tm\n",
    "import math # to calculate distance between servers\n",
    "\n",
    "from sklearn.cluster import MiniBatchKMeans\n",
    "from sklearn.decomposition import PCA # use pca reduce dims\n",
    "from mpl_toolkits.mplot3d import Axes3D # plot 3d figure\n",
    "from s_dbw import S_Dbw # evaluate clustering\n",
    "\n",
    "from matplotlib import pyplot\n",
    "\n",
    "from sklearn.cluster import MeanShift # a clustering algorithm decide the n_cluster automatically\n",
    "from itertools import cycle # for mean-shift plot"
   ]
  },
  {
   "cell_type": "code",
   "execution_count": 2,
   "id": "479ccafa",
   "metadata": {},
   "outputs": [
    {
     "name": "stderr",
     "output_type": "stream",
     "text": [
      "C:\\Users\\smart\\AppData\\Local\\Temp\\ipykernel_16624\\901789945.py:6: DtypeWarning: Columns (1,5,9) have mixed types. Specify dtype option on import or set low_memory=False.\n",
      "  df = pd.read_csv(file)\n"
     ]
    },
    {
     "name": "stdout",
     "output_type": "stream",
     "text": [
      "runtime: 47.72029781341553 second\n",
      "num of total server: 619\n",
      "Data Size of \"us\": 284249\n"
     ]
    }
   ],
   "source": [
    "# Data Processing - read data from .csv file\n",
    "\n",
    "data_loc = 'us'\n",
    "file = f'../dataset/{data_loc}.csv'\n",
    "\n",
    "df = pd.read_csv(file)\n",
    "df = pd.DataFrame(df)\n",
    "\n",
    "time_start = tm.time()\n",
    "\n",
    "ip_time = dict()\n",
    "special_chr = [\"{\", \"}\", \"'\", \":\", \" \"]\n",
    "\n",
    "for i in range(len(df)):\n",
    "    raw_points = df['transactionList'][i]\n",
    "    points = ''.join(e for e in raw_points if e not in special_chr)\n",
    "    points = points.split(\",\")\n",
    "    for j in range(len(points)):\n",
    "        time = points[j][:17]\n",
    "        ip = points[j][17:]\n",
    "        if ip not in ip_time:\n",
    "            ip_time[ip] = [time]\n",
    "        else:\n",
    "            ip_time[ip].append(time)\n",
    "\n",
    "time_end = tm.time()\n",
    "runtime = time_end - time_start\n",
    "print(f'runtime: {runtime} second')\n",
    "\n",
    "total_num = len(ip_time)\n",
    "print(f'num of total server: {total_num}')\n",
    "\n",
    "print(f'Data Size of \"{data_loc}\": {len(df)}')"
   ]
  },
  {
   "cell_type": "code",
   "execution_count": 3,
   "id": "5f6ae70f",
   "metadata": {},
   "outputs": [
    {
     "name": "stdout",
     "output_type": "stream",
     "text": [
      "ip: 52.223.228.27\n",
      "['2021-05-07T000111', '2021-05-07T002416', '2021-05-07T003212', '2021-05-07T002644', '2021-05-07T003952']\n"
     ]
    }
   ],
   "source": [
    "# select specific period from the dataset, \"ip_time\"\n",
    "\n",
    "def get_ip_time(ip_data=ip_time, period='2021', period_ip_time=None): # period_ip_time: use to accumulate date\n",
    "    if period_ip_time is None:\n",
    "        period_ip_time = dict()\n",
    "    if type(period) == str:\n",
    "        len_p = len(period)\n",
    "        for ip in ip_data:\n",
    "            for time in ip_data[ip]:\n",
    "                if time[0:len_p] == period:\n",
    "                    if ip not in period_ip_time:\n",
    "                        period_ip_time[ip] = [time]\n",
    "                    else:\n",
    "                        period_ip_time[ip] += [time]\n",
    "    elif type(period) == list: #[time_1, time_2, ...]\n",
    "        period_ip_time = get_ip_time(period=period[0])\n",
    "        for time_i in period[1:]:\n",
    "            period_ip_time = get_ip_time(period=time_i, period_ip_time=period_ip_time)\n",
    "    return period_ip_time\n",
    "\n",
    "# get 2021 data - US-All\n",
    "data_us_all = get_ip_time()\n",
    "\n",
    "# get US-1 data - 2021-05-07~2021-05-16 (for us dataset)\n",
    "us_1 = ['2021-05-07', '2021-05-08', '2021-05-09', '2021-05-10', '2021-05-11',\n",
    "            '2021-05-12', '2021-05-13', '2021-05-14', '2021-05-15', '2021-05-16']\n",
    "data_us_1 = get_ip_time(period=us_1)\n",
    "\n",
    "# check the data\n",
    "for ip in data_us_1:\n",
    "    print(f'ip: {ip}')\n",
    "    print(data_us_1[ip][:5])\n",
    "    break"
   ]
  },
  {
   "cell_type": "code",
   "execution_count": null,
   "id": "d73abfe3",
   "metadata": {},
   "outputs": [],
   "source": [
    "# setup hour axis for below chart\n",
    "hour_axis = ['00', '01', '02', '03', '04', '05', '06', '07', '08', '09', '10', '11',\n",
    "             '12', '13', '14', '15', '16', '17', '18', '19', '20', '21', '22', '23']"
   ]
  },
  {
   "cell_type": "code",
   "execution_count": null,
   "id": "1f638cc5",
   "metadata": {},
   "outputs": [],
   "source": [
    "# Table 5.1: Estimation model - Error Rate\n",
    "\n",
    "print('Table 5.1: Estimation model - Error Rate')"
   ]
  }
 ],
 "metadata": {
  "kernelspec": {
   "display_name": "Python 3 (ipykernel)",
   "language": "python",
   "name": "python3"
  },
  "language_info": {
   "codemirror_mode": {
    "name": "ipython",
    "version": 3
   },
   "file_extension": ".py",
   "mimetype": "text/x-python",
   "name": "python",
   "nbconvert_exporter": "python",
   "pygments_lexer": "ipython3",
   "version": "3.10.5"
  }
 },
 "nbformat": 4,
 "nbformat_minor": 5
}

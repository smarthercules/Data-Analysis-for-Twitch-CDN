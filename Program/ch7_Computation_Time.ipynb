{
 "cells": [
  {
   "cell_type": "code",
   "execution_count": 1,
   "id": "0ba34c80",
   "metadata": {},
   "outputs": [],
   "source": [
    "#import sklearn to cluster\n",
    "\n",
    "import numpy as np\n",
    "import pandas as pd\n",
    "import time as tm\n",
    "import math # to calculate distance between servers\n",
    "\n",
    "from sklearn.cluster import MiniBatchKMeans\n",
    "from sklearn.decomposition import PCA # use pca reduce dims\n",
    "from s_dbw import S_Dbw # evaluate clustering\n",
    "\n",
    "from matplotlib import pyplot"
   ]
  },
  {
   "cell_type": "code",
   "execution_count": 2,
   "id": "6c44f428",
   "metadata": {},
   "outputs": [],
   "source": [
    "# 7.1 Computation Time in the US Data"
   ]
  },
  {
   "cell_type": "code",
   "execution_count": 3,
   "id": "c2e43c32",
   "metadata": {},
   "outputs": [],
   "source": [
    "def get_nCluster_cjsTime(data_loc, period='', label_amount=10):\n",
    "    n_Cluster_record, time_record = [], []\n",
    "    for n_cluster in [2,3,4,5,6,7,8]:\n",
    "        for label in range(label_amount):\n",
    "            if data_loc == 'us':\n",
    "                file_path = f'./CJS_results/{data_loc}_period_{period}/p2_est_result/n_cluster_{n_cluster}/label_{label}.txt'\n",
    "            elif period == '':\n",
    "                file_path = f'./CJS_results/{data_loc}/p2_est_result/n_cluster_{n_cluster}/label_{label}.txt'\n",
    "            else:\n",
    "                file_path = f'./CJS_results/{data_loc}/p2_est_result/period_{period}/n_cluster_{n_cluster}/label_{label}.txt'\n",
    "            with open(file_path) as f:\n",
    "                lines = f.readlines()\n",
    "            time_record.append(float(lines[-1][10:]))\n",
    "            n_Cluster_record.append(n_cluster)\n",
    "    \n",
    "    return n_Cluster_record, time_record"
   ]
  },
  {
   "cell_type": "code",
   "execution_count": 4,
   "id": "5036e5ea",
   "metadata": {},
   "outputs": [
    {
     "data": {
      "image/png": "[encoded data removed]",
      "text/plain": [
       "<Figure size 432x288 with 1 Axes>"
      ]
     },
     "metadata": {
      "needs_background": "light"
     },
     "output_type": "display_data"
    },
    {
     "data": {
      "image/png": "[encoded data removed]",
      "text/plain": [
       "<Figure size 432x288 with 1 Axes>"
      ]
     },
     "metadata": {
      "needs_background": "light"
     },
     "output_type": "display_data"
    },
    {
     "name": "stdout",
     "output_type": "stream",
     "text": [
      "Figure 7.1: Computation Time of K-Means Clustering Results in the US\n"
     ]
    }
   ],
   "source": [
    "# Figure 7.1: Computation Time of K-Means Clustering Results in the US\n",
    "\n",
    "data_loc = 'us'\n",
    "\n",
    "# us_period_0\n",
    "us_n_Cluster_record_p0, us_time_record_p0 = get_nCluster_cjsTime(data_loc, period=0)\n",
    "\n",
    "data_loc_period = 'us_period_0'\n",
    "pyplot.title(f'CJS Computation Time & Number of Clusters - {data_loc_period}')\n",
    "pyplot.ylabel('computation time (second)')\n",
    "pyplot.xlabel('number of clusters')\n",
    "\n",
    "pyplot.scatter(us_n_Cluster_record_p0, us_time_record_p0)\n",
    "pyplot.show()\n",
    "\n",
    "# us_period_1\n",
    "us_n_Cluster_record_p1, us_time_record_p1 = get_nCluster_cjsTime(data_loc, period=1)\n",
    "\n",
    "data_loc_period = 'us_period_1'\n",
    "pyplot.title(f'CJS Computation Time & Number of Clusters - {data_loc_period}')\n",
    "pyplot.ylabel('computation time (second)')\n",
    "pyplot.xlabel('number of clusters')\n",
    "\n",
    "pyplot.scatter(us_n_Cluster_record_p1, us_time_record_p1)\n",
    "pyplot.show()\n",
    "\n",
    "print('Figure 7.1: Computation Time of K-Means Clustering Results in the US')"
   ]
  },
  {
   "cell_type": "code",
   "execution_count": 5,
   "id": "65e7aa34",
   "metadata": {},
   "outputs": [],
   "source": [
    "# 7.2 Computation Time in Different Regions"
   ]
  },
  {
   "cell_type": "code",
   "execution_count": 11,
   "id": "5c407c9b",
   "metadata": {},
   "outputs": [],
   "source": [
    "def get_nCluster_time_df(time_record, label_amount=10):\n",
    "    data_df = pd.DataFrame(columns = ['n_cluster', 'CJS_time'], index=list(range(7*label_amount)))\n",
    "    for n_cluster in [2,3,4,5,6,7,8]:\n",
    "        for label in range(label_amount):\n",
    "            index = (n_cluster-2)*label_amount+label\n",
    "            data_df['n_cluster'][index] = n_cluster\n",
    "            data_df['CJS_time'][index] = time_record[(n_cluster-2)*label_amount + label]\n",
    "    max_time = max(data_df['CJS_time'])\n",
    "    print(f'max CJS time: {max_time}')\n",
    "    return data_df"
   ]
  },
  {
   "cell_type": "code",
   "execution_count": 9,
   "id": "38eb894d",
   "metadata": {},
   "outputs": [
    {
     "name": "stdout",
     "output_type": "stream",
     "text": [
      "\n",
      "data_loc: us\n",
      "correlation period_0: 0.9738522091209486, max time = 4.235488\n",
      "correlation period_1: 0.9707788313379346, max time = 13.5825\n",
      "\n",
      "data_loc: United_Kingdom\n",
      "correlation period_0: 0.958828819519588, max time = 6.150258\n",
      "correlation period_1: 0.9562373820882288, max time = 15.22602\n",
      "\n",
      "data_loc: France\n",
      "correlation: 0.9584014516692781, max time = 6.96832\n",
      "\n",
      "data_loc: Netherlands\n",
      "correlation period_0: 0.9751296857704521, max time = 8.82272\n",
      "correlation period_1: 0.9471851601024144, max time = 41.20872\n",
      "\n",
      "data_loc: Germany\n",
      "correlation: 0.9585081108065842, max time = 45.15008\n",
      "\n",
      "Table 7.1: Computation Time in the CJS model with K-Means\n"
     ]
    }
   ],
   "source": [
    "# Table 7.1: Computation Time in the CJS model with K-Means\n",
    "\n",
    "# the US\n",
    "data_loc = 'us'\n",
    "print(f'\\ndata_loc: {data_loc}')\n",
    "n_Cluster_record, time_record = get_nCluster_cjsTime(data_loc, period=0)\n",
    "corr_nCluster_time = np.corrcoef(n_Cluster_record, time_record)\n",
    "print(f'correlation period_0: {corr_nCluster_time[0][1]}, max time = {np.max(time_record)}')\n",
    "\n",
    "n_Cluster_record, time_record = get_nCluster_cjsTime(data_loc, period=1)\n",
    "corr_nCluster_time = np.corrcoef(n_Cluster_record, time_record)\n",
    "print(f'correlation period_1: {corr_nCluster_time[0][1]}, max time = {np.max(time_record)}')\n",
    "\n",
    "# United Kingdom\n",
    "data_loc = 'United_Kingdom'\n",
    "print(f'\\ndata_loc: {data_loc}')\n",
    "n_Cluster_record, time_record = get_nCluster_cjsTime(data_loc, period=0)\n",
    "corr_nCluster_time = np.corrcoef(n_Cluster_record, time_record)\n",
    "print(f'correlation period_0: {corr_nCluster_time[0][1]}, max time = {np.max(time_record)}')\n",
    "\n",
    "n_Cluster_record, time_record = get_nCluster_cjsTime(data_loc, period=1)\n",
    "corr_nCluster_time = np.corrcoef(n_Cluster_record, time_record)\n",
    "print(f'correlation period_1: {corr_nCluster_time[0][1]}, max time = {np.max(time_record)}')\n",
    "\n",
    "# France\n",
    "data_loc = 'France'\n",
    "print(f'\\ndata_loc: {data_loc}')\n",
    "n_Cluster_record, time_record = get_nCluster_cjsTime(data_loc, period='')\n",
    "corr_nCluster_time = np.corrcoef(n_Cluster_record, time_record)\n",
    "print(f'correlation: {corr_nCluster_time[0][1]}, max time = {np.max(time_record)}')\n",
    "\n",
    "# the Netherlands\n",
    "data_loc = 'Netherlands'\n",
    "print(f'\\ndata_loc: {data_loc}')\n",
    "n_Cluster_record, time_record = get_nCluster_cjsTime(data_loc, period=0)\n",
    "corr_nCluster_time = np.corrcoef(n_Cluster_record, time_record)\n",
    "print(f'correlation period_0: {corr_nCluster_time[0][1]}, max time = {np.max(time_record)}')\n",
    "\n",
    "n_Cluster_record, time_record = get_nCluster_cjsTime(data_loc, period=1)\n",
    "corr_nCluster_time = np.corrcoef(n_Cluster_record, time_record)\n",
    "print(f'correlation period_1: {corr_nCluster_time[0][1]}, max time = {np.max(time_record)}')\n",
    "\n",
    "# Germany\n",
    "data_loc = 'Germany'\n",
    "print(f'\\ndata_loc: {data_loc}')\n",
    "n_Cluster_record, time_record = get_nCluster_cjsTime(data_loc, period='')\n",
    "corr_nCluster_time = np.corrcoef(n_Cluster_record, time_record)\n",
    "print(f'correlation: {corr_nCluster_time[0][1]}, max time = {np.max(time_record)}')\n",
    "\n",
    "print('\\nTable 7.1: Computation Time in the CJS model with K-Means')"
   ]
  }
 ],
 "metadata": {
  "kernelspec": {
   "display_name": "Python 3 (ipykernel)",
   "language": "python",
   "name": "python3"
  },
  "language_info": {
   "codemirror_mode": {
    "name": "ipython",
    "version": 3
   },
   "file_extension": ".py",
   "mimetype": "text/x-python",
   "name": "python",
   "nbconvert_exporter": "python",
   "pygments_lexer": "ipython3",
   "version": "3.10.5"
  }
 },
 "nbformat": 4,
 "nbformat_minor": 5
}

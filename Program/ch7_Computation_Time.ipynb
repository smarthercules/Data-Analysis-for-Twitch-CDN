{
 "cells": [
  {
   "cell_type": "code",
   "execution_count": 1,
   "id": "0ba34c80",
   "metadata": {},
   "outputs": [],
   "source": [
    "import numpy as np\n",
    "import pandas as pd\n",
    "\n",
    "from matplotlib import pyplot"
   ]
  },
  {
   "cell_type": "code",
   "execution_count": 2,
   "id": "6c44f428",
   "metadata": {},
   "outputs": [],
   "source": [
    "# 7.1 Computation Time in the US Data"
   ]
  },
  {
   "cell_type": "code",
   "execution_count": 3,
   "id": "c2e43c32",
   "metadata": {},
   "outputs": [],
   "source": [
    "def get_nCluster_cjsTime(data_loc, period='', label_amount=10):\n",
    "    n_Cluster_record, time_record = [], []\n",
    "    for n_cluster in [2,3,4,5,6,7,8]:\n",
    "        for label in range(label_amount):\n",
    "            if data_loc == 'us':\n",
    "                file_path = f'./CJS_results/{data_loc}_period_{period}/p2_est_result/n_cluster_{n_cluster}/label_{label}.txt'\n",
    "            elif period == '':\n",
    "                file_path = f'./CJS_results/{data_loc}/p2_est_result/n_cluster_{n_cluster}/label_{label}.txt'\n",
    "            else:\n",
    "                file_path = f'./CJS_results/{data_loc}/p2_est_result/period_{period}/n_cluster_{n_cluster}/label_{label}.txt'\n",
    "            with open(file_path) as f:\n",
    "                lines = f.readlines()\n",
    "            err = float(lines[0][5:])\n",
    "            if not np.isnan(err):\n",
    "                time_record.append(float(lines[-1][10:]))\n",
    "                n_Cluster_record.append(n_cluster)\n",
    "    \n",
    "    return n_Cluster_record, time_record"
   ]
  },
  {
   "cell_type": "code",
   "execution_count": 4,
   "id": "5036e5ea",
   "metadata": {},
   "outputs": [
    {
     "data": {
      "image/png": "[encoded data removed]",
      "text/plain": [
       "<Figure size 432x288 with 1 Axes>"
      ]
     },
     "metadata": {
      "needs_background": "light"
     },
     "output_type": "display_data"
    },
    {
     "data": {
      "image/png": "[encoded data removed]",
      "text/plain": [
       "<Figure size 432x288 with 1 Axes>"
      ]
     },
     "metadata": {
      "needs_background": "light"
     },
     "output_type": "display_data"
    },
    {
     "name": "stdout",
     "output_type": "stream",
     "text": [
      "Figure 7.1: Computation Time of K-Means Clustering Results in the US\n"
     ]
    }
   ],
   "source": [
    "# Figure 7.1: Computation Time of K-Means Clustering Results in the US\n",
    "\n",
    "data_loc = 'us'\n",
    "\n",
    "# us_period_0\n",
    "us_n_Cluster_record_p0, us_time_record_p0 = get_nCluster_cjsTime(data_loc, period=0)\n",
    "\n",
    "data_loc_period = 'us_period_0'\n",
    "pyplot.title(f'CJS Computation Time & Number of Clusters - {data_loc_period}')\n",
    "pyplot.ylabel('computation time (second)')\n",
    "pyplot.xlabel('number of clusters')\n",
    "\n",
    "pyplot.scatter(us_n_Cluster_record_p0, us_time_record_p0)\n",
    "pyplot.show()\n",
    "\n",
    "# us_period_1\n",
    "us_n_Cluster_record_p1, us_time_record_p1 = get_nCluster_cjsTime(data_loc, period=1)\n",
    "\n",
    "data_loc_period = 'us_period_1'\n",
    "pyplot.title(f'CJS Computation Time & Number of Clusters - {data_loc_period}')\n",
    "pyplot.ylabel('computation time (second)')\n",
    "pyplot.xlabel('number of clusters')\n",
    "\n",
    "pyplot.scatter(us_n_Cluster_record_p1, us_time_record_p1)\n",
    "pyplot.show()\n",
    "\n",
    "print('Figure 7.1: Computation Time of K-Means Clustering Results in the US')"
   ]
  },
  {
   "cell_type": "code",
   "execution_count": 5,
   "id": "65e7aa34",
   "metadata": {},
   "outputs": [],
   "source": [
    "# 7.2 Computation Time in Different Regions"
   ]
  },
  {
   "cell_type": "code",
   "execution_count": 6,
   "id": "38eb894d",
   "metadata": {},
   "outputs": [
    {
     "name": "stdout",
     "output_type": "stream",
     "text": [
      "\n",
      "data_loc: us\n",
      "period_0: correlation = 0.9755, max time = 4.24\n",
      "period_1: correlation = 0.9708, max time = 13.58\n",
      "\n",
      "data_loc: United_Kingdom\n",
      "period_0: correlation = 0.9588, max time = 6.15\n",
      "period_1: correlation = 0.9562, max time = 15.23\n",
      "\n",
      "data_loc: France\n",
      "correlation = 0.9584, max time = 6.97\n",
      "\n",
      "data_loc: Netherlands\n",
      "period_0: correlation = 0.9751, max time = 8.82\n",
      "period_1: correlation = 0.9472, max time = 41.21\n",
      "\n",
      "data_loc: Germany\n",
      "correlation = 0.9585, max time = 45.15\n",
      "\n",
      "Table 7.1: Computation Time in the CJS model with K-Means\n"
     ]
    }
   ],
   "source": [
    "# Table 7.1: Computation Time in the CJS model with K-Means\n",
    "\n",
    "# the US\n",
    "data_loc = 'us'\n",
    "print(f'\\ndata_loc: {data_loc}')\n",
    "n_Cluster_record, time_record = get_nCluster_cjsTime(data_loc, period=0)\n",
    "corr_nCluster_time = np.corrcoef(n_Cluster_record, time_record)\n",
    "print(f'period_0: correlation = {round(corr_nCluster_time[0][1], 4)}, max time = {round(np.max(time_record), 2)}')\n",
    "\n",
    "n_Cluster_record, time_record = get_nCluster_cjsTime(data_loc, period=1)\n",
    "corr_nCluster_time = np.corrcoef(n_Cluster_record, time_record)\n",
    "print(f'period_1: correlation = {round(corr_nCluster_time[0][1], 4)}, max time = {round(np.max(time_record), 2)}')\n",
    "\n",
    "# United Kingdom\n",
    "data_loc = 'United_Kingdom'\n",
    "print(f'\\ndata_loc: {data_loc}')\n",
    "n_Cluster_record, time_record = get_nCluster_cjsTime(data_loc, period=0)\n",
    "corr_nCluster_time = np.corrcoef(n_Cluster_record, time_record)\n",
    "print(f'period_0: correlation = {round(corr_nCluster_time[0][1], 4)}, max time = {round(np.max(time_record), 2)}')\n",
    "\n",
    "n_Cluster_record, time_record = get_nCluster_cjsTime(data_loc, period=1)\n",
    "corr_nCluster_time = np.corrcoef(n_Cluster_record, time_record)\n",
    "print(f'period_1: correlation = {round(corr_nCluster_time[0][1], 4)}, max time = {round(np.max(time_record), 2)}')\n",
    "\n",
    "# France\n",
    "data_loc = 'France'\n",
    "print(f'\\ndata_loc: {data_loc}')\n",
    "n_Cluster_record, time_record = get_nCluster_cjsTime(data_loc, period='')\n",
    "corr_nCluster_time = np.corrcoef(n_Cluster_record, time_record)\n",
    "print(f'correlation = {round(corr_nCluster_time[0][1], 4)}, max time = {round(np.max(time_record), 2)}')\n",
    "\n",
    "# the Netherlands\n",
    "data_loc = 'Netherlands'\n",
    "print(f'\\ndata_loc: {data_loc}')\n",
    "n_Cluster_record, time_record = get_nCluster_cjsTime(data_loc, period=0)\n",
    "corr_nCluster_time = np.corrcoef(n_Cluster_record, time_record)\n",
    "print(f'period_0: correlation = {round(corr_nCluster_time[0][1], 4)}, max time = {round(np.max(time_record), 2)}')\n",
    "\n",
    "n_Cluster_record, time_record = get_nCluster_cjsTime(data_loc, period=1)\n",
    "corr_nCluster_time = np.corrcoef(n_Cluster_record, time_record)\n",
    "print(f'period_1: correlation = {round(corr_nCluster_time[0][1], 4)}, max time = {round(np.max(time_record), 2)}')\n",
    "\n",
    "# Germany\n",
    "data_loc = 'Germany'\n",
    "print(f'\\ndata_loc: {data_loc}')\n",
    "n_Cluster_record, time_record = get_nCluster_cjsTime(data_loc, period='')\n",
    "corr_nCluster_time = np.corrcoef(n_Cluster_record, time_record)\n",
    "print(f'correlation = {round(corr_nCluster_time[0][1], 4)}, max time = {round(np.max(time_record), 2)}')\n",
    "\n",
    "print('\\nTable 7.1: Computation Time in the CJS model with K-Means')"
   ]
  }
 ],
 "metadata": {
  "kernelspec": {
   "display_name": "Python 3 (ipykernel)",
   "language": "python",
   "name": "python3"
  },
  "language_info": {
   "codemirror_mode": {
    "name": "ipython",
    "version": 3
   },
   "file_extension": ".py",
   "mimetype": "text/x-python",
   "name": "python",
   "nbconvert_exporter": "python",
   "pygments_lexer": "ipython3",
   "version": "3.10.5"
  }
 },
 "nbformat": 4,
 "nbformat_minor": 5
}
